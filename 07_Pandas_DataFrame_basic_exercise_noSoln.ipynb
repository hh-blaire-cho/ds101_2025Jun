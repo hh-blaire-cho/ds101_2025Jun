{
 "cells": [
  {
   "cell_type": "markdown",
   "metadata": {},
   "source": [
    "![rmotr](https://user-images.githubusercontent.com/7065401/52071918-bda15380-2562-11e9-828c-7f95297e4a82.png)\n",
    "<hr style=\"margin-bottom: 40px;\">\n",
    "\n",
    "# Pandas DataFrame exercises\n"
   ]
  },
  {
   "cell_type": "code",
   "execution_count": 429,
   "metadata": {},
   "outputs": [
    {
     "name": "stdout",
     "output_type": "stream",
     "text": [
      "2.0.3\n"
     ]
    }
   ],
   "source": [
    "# Import the numpy package under the name np\n",
    "import numpy as np\n",
    "\n",
    "# Import the pandas package under the name pd\n",
    "import pandas as pd\n",
    "\n",
    "# Print the pandas version and the configuration\n",
    "print(pd.__version__)"
   ]
  },
  {
   "cell_type": "markdown",
   "metadata": {},
   "source": [
    "![purple-divider](https://user-images.githubusercontent.com/7065401/52071927-c1cd7100-2562-11e9-908a-dde91ba14e59.png)\n",
    "\n",
    "## DataFrame creation"
   ]
  },
  {
   "cell_type": "markdown",
   "metadata": {},
   "source": [
    "---\n",
    "Create an empty pandas DataFrame\n"
   ]
  },
  {
   "cell_type": "code",
   "execution_count": 430,
   "metadata": {},
   "outputs": [],
   "source": [
    "# your code goes here"
   ]
  },
  {
   "cell_type": "markdown",
   "metadata": {},
   "source": [
    "---\n",
    "Create a pandas DataFrame with None data None index None columns"
   ]
  },
  {
   "cell_type": "code",
   "execution_count": 432,
   "metadata": {},
   "outputs": [],
   "source": [
    "# your code goes here"
   ]
  },
  {
   "cell_type": "markdown",
   "metadata": {},
   "source": [
    "![purple-divider](https://user-images.githubusercontent.com/7065401/52071927-c1cd7100-2562-11e9-908a-dde91ba14e59.png)\n",
    "\n",
    "## Marvel_example\n",
    "\n",
    "<img width=400 src=\"https://cdn.dribbble.com/users/4678/screenshots/1986600/avengers.png\"></img>"
   ]
  },
  {
   "cell_type": "code",
   "execution_count": 434,
   "metadata": {},
   "outputs": [],
   "source": [
    "# given data\n",
    "\n",
    "col_names = [\n",
    "    \"name\",\n",
    "    \"gender\",\n",
    "    \"first_appearance\",\n",
    "    \"superpower\",\n",
    "    \"team\",\n",
    "    \"origin\",\n",
    "    \"popularity_score\",\n",
    "    \"status\",\n",
    "]\n",
    "marvel_data = [\n",
    "    [\n",
    "        \"Spider-Man\",\n",
    "        \"male\",\n",
    "        1962,\n",
    "        \"Wall-crawling, super strength\",\n",
    "        \"Avengers\",\n",
    "        \"New York\",\n",
    "        9.8,\n",
    "        \"active\",\n",
    "    ],\n",
    "    [\n",
    "        \"Captain America\",\n",
    "        \"male\",\n",
    "        1941,\n",
    "        \"Super soldier strength\",\n",
    "        \"Avengers\",\n",
    "        \"World War II\",\n",
    "        9.6,\n",
    "        \"active\",\n",
    "    ],\n",
    "    [\n",
    "        \"Wolverine\",\n",
    "        \"male\",\n",
    "        1974,\n",
    "        \"Regeneration, claws\",\n",
    "        \"X-Men\",\n",
    "        \"Canada\",\n",
    "        9.5,\n",
    "        \"active\",\n",
    "    ],\n",
    "    [\n",
    "        \"Iron Man\",\n",
    "        \"male\",\n",
    "        1963,\n",
    "        \"Genius-level intellect, powered armor\",\n",
    "        \"Avengers\",\n",
    "        \"New York\",\n",
    "        9.7,\n",
    "        \"deceased\",\n",
    "    ],\n",
    "    [\n",
    "        \"Thor\",\n",
    "        \"male\",\n",
    "        1963,\n",
    "        \"Godly strength, Mjölnir\",\n",
    "        \"Avengers\",\n",
    "        \"Asgard\",\n",
    "        9.8,\n",
    "        \"active\",\n",
    "    ],\n",
    "    [\n",
    "        \"Thing\",\n",
    "        \"male\",\n",
    "        1961,\n",
    "        \"Rocky skin, super strength\",\n",
    "        \"Fantastic Four\",\n",
    "        \"New York\",\n",
    "        8.5,\n",
    "        \"active\",\n",
    "    ],\n",
    "    [\n",
    "        \"Mister Fantastic\",\n",
    "        \"male\",\n",
    "        1961,\n",
    "        \"Elastic body\",\n",
    "        \"Fantastic Four\",\n",
    "        \"New York\",\n",
    "        8.8,\n",
    "        \"active\",\n",
    "    ],\n",
    "    [\n",
    "        \"Hulk\",\n",
    "        \"male\",\n",
    "        1962,\n",
    "        \"Super strength, rage-induced transformation\",\n",
    "        \"Avengers\",\n",
    "        \"New York\",\n",
    "        9.2,\n",
    "        \"active\",\n",
    "    ],\n",
    "    [\n",
    "        \"Beast\",\n",
    "        \"male\",\n",
    "        1963,\n",
    "        \"Super strength, agility\",\n",
    "        \"X-Men\",\n",
    "        \"Illinois\",\n",
    "        8.3,\n",
    "        \"active\",\n",
    "    ],\n",
    "    [\n",
    "        \"Invisible Woman\",\n",
    "        \"female\",\n",
    "        1961,\n",
    "        \"Invisibility, force fields\",\n",
    "        \"Fantastic Four\",\n",
    "        \"New York\",\n",
    "        8.9,\n",
    "        \"active\",\n",
    "    ],\n",
    "    [\"Storm\", \"female\", 1975, \"Weather manipulation\", \"X-Men\", \"Kenya\", 9.1, \"active\"],\n",
    "    [\"Namor\", \"male\", 1939, \"Aquatic abilities\", \"X-Men\", \"Atlantis\", 7.9, \"active\"],\n",
    "    [\"Hawkeye\", \"male\", 1964, \"Expert archer\", \"Avengers\", \"Iowa\", 7.8, \"active\"],\n",
    "    [\n",
    "        \"Daredevil\",\n",
    "        \"male\",\n",
    "        1964,\n",
    "        \"Enhanced senses, martial arts\",\n",
    "        \"Defenders\",\n",
    "        \"New York\",\n",
    "        8.7,\n",
    "        \"active\",\n",
    "    ],\n",
    "    [\n",
    "        \"Doctor Strange\",\n",
    "        \"male\",\n",
    "        1963,\n",
    "        \"Master of mystic arts\",\n",
    "        \"Defenders\",\n",
    "        \"New York\",\n",
    "        9.4,\n",
    "        \"active\",\n",
    "    ],\n",
    "    [\n",
    "        \"Hank Pym\",\n",
    "        \"male\",\n",
    "        1962,\n",
    "        \"Size manipulation\",\n",
    "        \"Avengers\",\n",
    "        \"New York\",\n",
    "        8.0,\n",
    "        \"retired\",\n",
    "    ],\n",
    "    [\n",
    "        \"Scarlet Witch\",\n",
    "        \"female\",\n",
    "        1964,\n",
    "        \"Reality manipulation\",\n",
    "        \"Avengers\",\n",
    "        \"Sokovia\",\n",
    "        9.3,\n",
    "        \"active\",\n",
    "    ],\n",
    "    [\n",
    "        \"Wasp\",\n",
    "        \"female\",\n",
    "        1963,\n",
    "        \"Size manipulation, flight\",\n",
    "        \"Avengers\",\n",
    "        \"New York\",\n",
    "        8.1,\n",
    "        \"active\",\n",
    "    ],\n",
    "    [\n",
    "        \"Black Widow\",\n",
    "        \"female\",\n",
    "        1964,\n",
    "        \"Expert spy, martial artist\",\n",
    "        \"Avengers\",\n",
    "        \"Russia\",\n",
    "        9.0,\n",
    "        \"deceased\",\n",
    "    ],\n",
    "    [\n",
    "        \"Vision\",\n",
    "        \"male\",\n",
    "        1968,\n",
    "        \"Density manipulation\",\n",
    "        \"Avengers\",\n",
    "        \"Synthoid\",\n",
    "        8.9,\n",
    "        \"active\",\n",
    "    ],\n",
    "]"
   ]
  },
  {
   "cell_type": "markdown",
   "metadata": {},
   "source": [
    "---\n",
    "Create a `marvel_df` pandas DataFrame with the given `marvel_data`  with `col_names`\n"
   ]
  },
  {
   "cell_type": "code",
   "execution_count": 435,
   "metadata": {},
   "outputs": [],
   "source": [
    "# your code goes here"
   ]
  },
  {
   "cell_type": "markdown",
   "metadata": {},
   "source": [
    "---\n",
    "show its columns only"
   ]
  },
  {
   "cell_type": "code",
   "execution_count": 438,
   "metadata": {},
   "outputs": [],
   "source": [
    "# your code goes here"
   ]
  },
  {
   "cell_type": "markdown",
   "metadata": {},
   "source": [
    "---\n",
    "show the row count of this dataframe"
   ]
  },
  {
   "cell_type": "code",
   "execution_count": 440,
   "metadata": {},
   "outputs": [],
   "source": [
    "# your code goes here"
   ]
  },
  {
   "cell_type": "markdown",
   "metadata": {},
   "source": [
    "---\n",
    "set name column to be index of this dataframe"
   ]
  },
  {
   "cell_type": "code",
   "execution_count": 442,
   "metadata": {},
   "outputs": [],
   "source": [
    "# your code goes here"
   ]
  },
  {
   "cell_type": "markdown",
   "metadata": {},
   "source": [
    "---\n",
    "Drop 'Namor' and 'Hank Pym' rows - do not save onto original. just show the result\n"
   ]
  },
  {
   "cell_type": "code",
   "execution_count": 444,
   "metadata": {},
   "outputs": [],
   "source": [
    "# your code goes here"
   ]
  },
  {
   "cell_type": "markdown",
   "metadata": {},
   "source": [
    "---\n",
    "Drop 'superpower' column - do not save onto original. just show the result\n"
   ]
  },
  {
   "cell_type": "code",
   "execution_count": 446,
   "metadata": {},
   "outputs": [],
   "source": [
    "# your code goes here"
   ]
  },
  {
   "cell_type": "markdown",
   "metadata": {},
   "source": [
    "---\n",
    "Let's roll it back. Let's reset name to be column not index anymore"
   ]
  },
  {
   "cell_type": "code",
   "execution_count": 448,
   "metadata": {},
   "outputs": [],
   "source": [
    "# your code goes here"
   ]
  },
  {
   "cell_type": "markdown",
   "metadata": {},
   "source": [
    "---\n",
    "create copy of current dataframe of backup\n",
    "\n",
    "```\n",
    "backup = marvel_data.copy()"
   ]
  },
  {
   "cell_type": "code",
   "execution_count": 450,
   "metadata": {},
   "outputs": [],
   "source": [
    "backup = marvel_data.copy()"
   ]
  },
  {
   "cell_type": "markdown",
   "metadata": {},
   "source": [
    "![purple-divider](https://user-images.githubusercontent.com/7065401/52071927-c1cd7100-2562-11e9-908a-dde91ba14e59.png)\n",
    "\n",
    "## DataFrame selection, slicing and indexation"
   ]
  },
  {
   "cell_type": "markdown",
   "metadata": {},
   "source": [
    "---\n",
    "Show the first 4 rows on `marvel_df` using string-range indexing"
   ]
  },
  {
   "cell_type": "code",
   "execution_count": 451,
   "metadata": {},
   "outputs": [],
   "source": [
    "# your code goes here"
   ]
  },
  {
   "cell_type": "markdown",
   "metadata": {},
   "source": [
    "---\n",
    "Show the last 4 rows on `marvel_df` using tail function"
   ]
  },
  {
   "cell_type": "code",
   "execution_count": 453,
   "metadata": {},
   "outputs": [],
   "source": [
    "# your code goes here"
   ]
  },
  {
   "cell_type": "markdown",
   "metadata": {},
   "source": [
    "---\n",
    "Show the last 3 columns on `marvel_df` using iloc\n"
   ]
  },
  {
   "cell_type": "code",
   "execution_count": 455,
   "metadata": {},
   "outputs": [],
   "source": [
    "# your code goes here"
   ]
  },
  {
   "cell_type": "markdown",
   "metadata": {},
   "source": [
    "---\n",
    "Show just the `gender` of the first 5 elements on `marvel_df`\n",
    "- make sure you are printing it as DATAFRAME"
   ]
  },
  {
   "cell_type": "code",
   "execution_count": 457,
   "metadata": {},
   "outputs": [],
   "source": [
    "# your code goes here"
   ]
  },
  {
   "cell_type": "markdown",
   "metadata": {},
   "source": [
    "---\n",
    "Show the first_appearance of all middle rows on `marvel_df`\n",
    "- make sure you are printing it as DATAFRAME"
   ]
  },
  {
   "cell_type": "code",
   "execution_count": 459,
   "metadata": {},
   "outputs": [],
   "source": [
    "# your code goes here"
   ]
  },
  {
   "cell_type": "markdown",
   "metadata": {},
   "source": [
    "---\n",
    "Show the first and last rows on `marvel_df`\n"
   ]
  },
  {
   "cell_type": "code",
   "execution_count": 461,
   "metadata": {},
   "outputs": [],
   "source": [
    "# your code goes here"
   ]
  },
  {
   "cell_type": "markdown",
   "metadata": {},
   "source": [
    "![purple-divider](https://user-images.githubusercontent.com/7065401/52071927-c1cd7100-2562-11e9-908a-dde91ba14e59.png)\n",
    "\n",
    "## DataFrame manipulation and operations"
   ]
  },
  {
   "cell_type": "markdown",
   "metadata": {},
   "source": [
    "---\n",
    "Modify the `first_appearance` of 'Vision' to year 1964"
   ]
  },
  {
   "cell_type": "code",
   "execution_count": 463,
   "metadata": {},
   "outputs": [],
   "source": [
    "# your code goes here"
   ]
  },
  {
   "cell_type": "markdown",
   "metadata": {},
   "source": [
    "---\n",
    "Add a new column to `marvel_df` called `years_since` with the years since `first_appearance`\n"
   ]
  },
  {
   "cell_type": "code",
   "execution_count": 465,
   "metadata": {},
   "outputs": [],
   "source": [
    "# your code goes here"
   ]
  },
  {
   "cell_type": "markdown",
   "metadata": {},
   "source": [
    "---\n",
    "Given the `marvel_df` pandas DataFrame, make a mask showing the female characters - just show mask\n"
   ]
  },
  {
   "cell_type": "code",
   "execution_count": 467,
   "metadata": {},
   "outputs": [],
   "source": [
    "# your code goes here"
   ]
  },
  {
   "cell_type": "markdown",
   "metadata": {},
   "source": [
    "---\n",
    "Given the `marvel_df` pandas DataFrame, get the characters with `first_appearance` after 1970 - show filtered result\n"
   ]
  },
  {
   "cell_type": "code",
   "execution_count": 469,
   "metadata": {},
   "outputs": [],
   "source": [
    "# your code goes here"
   ]
  },
  {
   "cell_type": "markdown",
   "metadata": {},
   "source": [
    "---\n",
    "Given the `marvel_df` pandas DataFrame, get the characters with `first_appearance` is NOT 1970 - show filtered result\n"
   ]
  },
  {
   "cell_type": "code",
   "execution_count": 471,
   "metadata": {},
   "outputs": [],
   "source": [
    "# your code goes here"
   ]
  },
  {
   "cell_type": "markdown",
   "metadata": {},
   "source": [
    "---\n",
    "Convert a gender column to have 'M' and 'F' instead of 'male' and 'female'\n",
    "- use replace \n"
   ]
  },
  {
   "cell_type": "code",
   "execution_count": 473,
   "metadata": {},
   "outputs": [],
   "source": [
    "# your code goes here"
   ]
  },
  {
   "cell_type": "markdown",
   "metadata": {},
   "source": [
    "---\n",
    "Let's roll it back. Convert a gender column to have 'male' and 'female'\n",
    "- use masking\n"
   ]
  },
  {
   "cell_type": "code",
   "execution_count": 475,
   "metadata": {},
   "outputs": [],
   "source": [
    "# your code goes here"
   ]
  },
  {
   "cell_type": "markdown",
   "metadata": {},
   "source": [
    "![purple-divider](https://user-images.githubusercontent.com/7065401/52071927-c1cd7100-2562-11e9-908a-dde91ba14e59.png)\n",
    "\n",
    "## DataFrame summary statistics"
   ]
  },
  {
   "cell_type": "markdown",
   "metadata": {},
   "source": [
    "---\n",
    "Show basic statistics summary of `marvel_df`"
   ]
  },
  {
   "cell_type": "code",
   "execution_count": 477,
   "metadata": {},
   "outputs": [],
   "source": [
    "# your code goes here"
   ]
  },
  {
   "cell_type": "markdown",
   "metadata": {},
   "source": [
    "---\n",
    "Given the `marvel_df` pandas DataFrame, show each count of character's origin\n",
    "- you will know how many people are from New york, Asgard, Iowa etc"
   ]
  },
  {
   "cell_type": "code",
   "execution_count": 479,
   "metadata": {},
   "outputs": [],
   "source": [
    "# your code goes here"
   ]
  },
  {
   "cell_type": "markdown",
   "metadata": {},
   "source": [
    "---\n",
    "Given the `marvel_df` pandas DataFrame, show the minimum and mean value of `first_appearance`"
   ]
  },
  {
   "cell_type": "code",
   "execution_count": 481,
   "metadata": {},
   "outputs": [],
   "source": [
    "# your code goes here"
   ]
  },
  {
   "cell_type": "markdown",
   "metadata": {},
   "source": [
    "---\n",
    "Given the `marvel_df` pandas DataFrame, show the min value of `first_appearance`\n"
   ]
  },
  {
   "cell_type": "code",
   "execution_count": 483,
   "metadata": {},
   "outputs": [],
   "source": [
    "# your code goes here"
   ]
  },
  {
   "cell_type": "markdown",
   "metadata": {},
   "source": [
    "---\n",
    "Given the `marvel_df` pandas DataFrame, consider the conditions.\n",
    "- first_appearance is before 1969(not including 1969)\n",
    "- male\n",
    "- team name not Fantastic Four\n",
    "\n",
    "And find:\n",
    "- find how many characters are qualified\n",
    "- find their average of popularity score"
   ]
  },
  {
   "cell_type": "code",
   "execution_count": 485,
   "metadata": {},
   "outputs": [],
   "source": [
    "# your code goes here"
   ]
  },
  {
   "cell_type": "markdown",
   "metadata": {},
   "source": [
    "![purple-divider](https://user-images.githubusercontent.com/7065401/52071927-c1cd7100-2562-11e9-908a-dde91ba14e59.png)\n",
    "\n",
    "## DataFrame basic plottings"
   ]
  },
  {
   "cell_type": "markdown",
   "metadata": {},
   "source": [
    "---\n",
    "Bar-Plot the value count of `first_appearance`\n",
    "- your plot must show there are 5 characters in 1963, 3 characters in 1962 etc\n"
   ]
  },
  {
   "cell_type": "code",
   "execution_count": 486,
   "metadata": {},
   "outputs": [],
   "source": [
    "# your code goes here"
   ]
  },
  {
   "cell_type": "markdown",
   "metadata": {},
   "source": [
    "---\n",
    "Bar-Plot the value count of `team`\n",
    "- your plot must show there are 11 Avengers, 4 X-men etc\n"
   ]
  },
  {
   "cell_type": "code",
   "execution_count": 488,
   "metadata": {},
   "outputs": [],
   "source": [
    "# your code goes here"
   ]
  }
 ],
 "metadata": {
  "kernelspec": {
   "display_name": "venv",
   "language": "python",
   "name": "python3"
  },
  "language_info": {
   "codemirror_mode": {
    "name": "ipython",
    "version": 3
   },
   "file_extension": ".py",
   "mimetype": "text/x-python",
   "name": "python",
   "nbconvert_exporter": "python",
   "pygments_lexer": "ipython3",
   "version": "3.8.6"
  }
 },
 "nbformat": 4,
 "nbformat_minor": 4
}
